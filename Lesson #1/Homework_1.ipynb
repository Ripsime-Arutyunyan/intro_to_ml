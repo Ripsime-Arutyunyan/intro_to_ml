{
 "cells": [
  {
   "cell_type": "code",
   "execution_count": 4,
   "metadata": {},
   "outputs": [
    {
     "name": "stdout",
     "output_type": "stream",
     "text": [
      "What is your number? 2\n",
      "Number of 2s =2\n"
     ]
    }
   ],
   "source": [
    "list2 = [0,'hi',2,100,300,2]\n",
    "num = int(input('What is your number? '))\n",
    "count = 0\n",
    "for i in list2:\n",
    "    if i==num:\n",
    "        count+=1\n",
    "print('Number of %ds ='%(num)+str(count))"
   ]
  },
  {
   "cell_type": "code",
   "execution_count": 8,
   "metadata": {},
   "outputs": [
    {
     "name": "stdout",
     "output_type": "stream",
     "text": [
      "('ML', 'Python', 1, 'Homework', 13, 'Tuple')\n",
      "('ML', 'Python', 1, 'Homework', 'hello', 'Tuple')\n"
     ]
    }
   ],
   "source": [
    "t2 = ('ML','Python',1,'Homework',13,'Tuple')\n",
    "print(t2)\n",
    "l = list(t2)\n",
    "l[4]='hello'\n",
    "t2 = tuple(l)\n",
    "print(t2)"
   ]
  },
  {
   "cell_type": "code",
   "execution_count": 12,
   "metadata": {},
   "outputs": [
    {
     "name": "stdout",
     "output_type": "stream",
     "text": [
      "What is the Armen's weight? 75\n",
      "{'name': 'Armen', 'age': 15, 'grades': [10, 8, 8, 4, 6, 7], 'weight': 75}\n"
     ]
    }
   ],
   "source": [
    "d = {'name':'Armen',\n",
    "     'age':15,\n",
    "     'grades':[10,8,8,4,6,7]}\n",
    "\n",
    "weight = int(input(\"What is the Armen's weight? \"))\n",
    "if 'weight' in d.keys():\n",
    "    print(d['weight'])\n",
    "else:\n",
    "    d['weight'] = weight\n",
    "print(d)"
   ]
  },
  {
   "cell_type": "code",
   "execution_count": 14,
   "metadata": {},
   "outputs": [
    {
     "name": "stdout",
     "output_type": "stream",
     "text": [
      "Guess the num: 4\n",
      "Try again!\n",
      "Guess the num: 5\n",
      "That was a good guess!\n"
     ]
    }
   ],
   "source": [
    "correct_num=5\n",
    "\n",
    "while count<11:\n",
    "    guess = int(input('Guess the num: '))\n",
    "    count = 0\n",
    "    if guess == correct_num:\n",
    "        print('That was a good guess!')\n",
    "        break\n",
    "    else:\n",
    "        print('Try again!')\n",
    "        count+=1"
   ]
  },
  {
   "cell_type": "code",
   "execution_count": 15,
   "metadata": {},
   "outputs": [],
   "source": [
    "list1 = ['a','abc','xyz','s','aba','1221']\n",
    "result = [i for i in list1 if len(i)>1 and i[0]==i[-1]]\n",
    "print(result)"
   ]
  },
  {
   "cell_type": "code",
   "execution_count": null,
   "metadata": {},
   "outputs": [],
   "source": []
  }
 ],
 "metadata": {
  "kernelspec": {
   "display_name": "Python 3",
   "language": "python",
   "name": "python3"
  },
  "language_info": {
   "codemirror_mode": {
    "name": "ipython",
    "version": 3
   },
   "file_extension": ".py",
   "mimetype": "text/x-python",
   "name": "python",
   "nbconvert_exporter": "python",
   "pygments_lexer": "ipython3",
   "version": "3.7.6"
  }
 },
 "nbformat": 4,
 "nbformat_minor": 4
}
