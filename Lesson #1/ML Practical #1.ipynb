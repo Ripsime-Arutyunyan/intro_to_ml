{
 "cells": [
  {
   "cell_type": "code",
   "execution_count": 1,
   "metadata": {},
   "outputs": [
    {
     "name": "stdout",
     "output_type": "stream",
     "text": [
      "Enter the value: 2\n",
      "['hello', 1, True, '2']\n"
     ]
    }
   ],
   "source": [
    "list1 = ['hello',1,True]\n",
    "print(list1)\n",
    "a = input('Enter the value: ')\n",
    "list1.append(a)\n",
    "print(list1)"
   ]
  },
  {
   "cell_type": "code",
   "execution_count": 8,
   "metadata": {},
   "outputs": [
    {
     "name": "stdout",
     "output_type": "stream",
     "text": [
      "[2, 4, 'hello', 8, 'world', 100, 150, 80]\n",
      "[4, 'hello', 8, 'world', 150]\n"
     ]
    }
   ],
   "source": [
    "list2 = [2,4,'hello',8,'world',100,150,80]\n",
    "print(list2)\n",
    "for i in range(len(list2)):\n",
    "    if i == 0 or i == 4 or i == 5:\n",
    "        list2.remove(list2[i])\n",
    "print(list2)        "
   ]
  },
  {
   "cell_type": "code",
   "execution_count": 9,
   "metadata": {},
   "outputs": [],
   "source": [
    "import numpy as np"
   ]
  },
  {
   "cell_type": "code",
   "execution_count": 10,
   "metadata": {},
   "outputs": [
    {
     "name": "stderr",
     "output_type": "stream",
     "text": [
      "C:\\Users\\Admin\\Anaconda\\lib\\site-packages\\ipykernel_launcher.py:1: DeprecationWarning: This function is deprecated. Please call randint(1, 100 + 1) instead\n",
      "  \"\"\"Entry point for launching an IPython kernel.\n"
     ]
    },
    {
     "data": {
      "text/plain": [
       "array([83, 49, 96, 87, 54, 11, 19, 48, 46, 72, 90, 97, 59, 80, 95, 22, 10,\n",
       "       96, 28, 68])"
      ]
     },
     "execution_count": 10,
     "metadata": {},
     "output_type": "execute_result"
    }
   ],
   "source": [
    "l3 = np.random.random_integers(1,100,20)\n",
    "l3"
   ]
  },
  {
   "cell_type": "code",
   "execution_count": 11,
   "metadata": {},
   "outputs": [
    {
     "data": {
      "text/plain": [
       "{10, 11, 19, 22, 28, 46, 48, 49, 54, 59, 68, 72, 80, 83, 87, 90, 95, 96, 97}"
      ]
     },
     "execution_count": 11,
     "metadata": {},
     "output_type": "execute_result"
    }
   ],
   "source": [
    "set3 = set(l3)\n",
    "set3"
   ]
  },
  {
   "cell_type": "code",
   "execution_count": 15,
   "metadata": {},
   "outputs": [
    {
     "name": "stdout",
     "output_type": "stream",
     "text": [
      "Enter your number: 12\n",
      "True\n"
     ]
    }
   ],
   "source": [
    "value = int(input('Enter your number: '))\n",
    "if value<max(set3) and value>min(set3):\n",
    "    print(True)\n",
    "else:\n",
    "    print(False)"
   ]
  },
  {
   "cell_type": "code",
   "execution_count": 16,
   "metadata": {},
   "outputs": [
    {
     "name": "stdout",
     "output_type": "stream",
     "text": [
      "{'first': 'list', 'second': 'set', 'third': 'dictionary'}\n",
      "What is the key? 1\n",
      "What is the value? lesson\n",
      "{'first': 'list', 'second': 'set', 'third': 'dictionary', '1': 'lesson'}\n"
     ]
    }
   ],
   "source": [
    "dict1 = {'first': 'list', 'second': 'set', 'third': 'dictionary'}\n",
    "print(dict1)\n",
    "key = input('What is the key? ')\n",
    "value = input('What is the value? ')\n",
    "dict1[key] = value\n",
    "print(dict1)"
   ]
  },
  {
   "cell_type": "code",
   "execution_count": 19,
   "metadata": {},
   "outputs": [
    {
     "name": "stdout",
     "output_type": "stream",
     "text": [
      "length: 5\n",
      "width: 4\n",
      "it is rectangle\n"
     ]
    }
   ],
   "source": [
    "a = int(input('length: '))\n",
    "b = int(input('width: '))\n",
    "if (a*b) == (pow(a,2)):\n",
    "    print('it is square')\n",
    "else:\n",
    "    print('it is rectangle')"
   ]
  },
  {
   "cell_type": "code",
   "execution_count": 3,
   "metadata": {},
   "outputs": [
    {
     "name": "stdout",
     "output_type": "stream",
     "text": [
      "What is your name? Hripsime\n",
      "How old are you?29\n",
      "Choose a password: r&hh*\n",
      "You are successfully registered\n"
     ]
    }
   ],
   "source": [
    "name = input('What is your name? ')\n",
    "age = int(input('How old are you?'))\n",
    "password = list(input('Choose a password: '))\n",
    "\n",
    "if name == 'Batman':\n",
    "    print('Welcome, Mr. Batman!')\n",
    "if age < 16:\n",
    "    print('Dear %s, you are too young to register!'%name)\n",
    "if ('*' or '&') in password:\n",
    "    print('You are successfully registered')\n",
    "else:\n",
    "    print('Please enter a different password')"
   ]
  },
  {
   "cell_type": "code",
   "execution_count": 24,
   "metadata": {},
   "outputs": [
    {
     "name": "stdout",
     "output_type": "stream",
     "text": [
      "[1, 3, 5, 7, 9, 11, 13, 15, 17, 19, 21, 23, 25, 27, 29, 31, 33, 35, 37, 39, 41, 43, 45, 47, 49, 51, 53, 55, 57, 59, 61, 63, 65, 67, 69, 71, 73, 75, 77, 79, 81, 83, 85, 87, 89, 91, 93, 95, 97, 99]\n"
     ]
    }
   ],
   "source": [
    "l = []\n",
    "for i in range(100):\n",
    "    if i%2 != 0:\n",
    "        l.append(i)\n",
    "print(l)"
   ]
  },
  {
   "cell_type": "code",
   "execution_count": 28,
   "metadata": {},
   "outputs": [
    {
     "name": "stdout",
     "output_type": "stream",
     "text": [
      "1\n",
      "2\n",
      "3\n",
      "4\n",
      "5\n",
      "6\n",
      "7\n",
      "8\n",
      "9\n",
      "10\n",
      "11\n",
      "12\n",
      "13\n",
      "14\n",
      "15\n"
     ]
    }
   ],
   "source": [
    "for i in range(1,20):\n",
    "    print(i)\n",
    "    if i%3==0 and i%5==0:\n",
    "        break"
   ]
  },
  {
   "cell_type": "code",
   "execution_count": 31,
   "metadata": {},
   "outputs": [
    {
     "name": "stdout",
     "output_type": "stream",
     "text": [
      "[49 27 23 85 27 80 61 19  4 70  7 96 42 63 73 96 76  1 20 23 34  9 24 14\n",
      " 63 35 71 49 42  8 56 13 28 30 44 31 43 66 75 94]\n",
      "40\n",
      "[49, 27, 23, 85, 27, 80, 61, 70, 96, 42, 63, 73, 96, 76, 23, 34, 24, 63, 35, 71, 49, 42, 56, 28, 30, 44, 31, 43, 66, 75, 94]\n",
      "31\n"
     ]
    }
   ],
   "source": [
    "list1 = np.random.randint(1,100,40)\n",
    "print(list1)\n",
    "print(len(list1))\n",
    "list2 = [i for i in list1 if i>20]\n",
    "print(list2)\n",
    "print(len(list2))"
   ]
  },
  {
   "cell_type": "code",
   "execution_count": null,
   "metadata": {},
   "outputs": [],
   "source": []
  }
 ],
 "metadata": {
  "kernelspec": {
   "display_name": "Python 3",
   "language": "python",
   "name": "python3"
  },
  "language_info": {
   "codemirror_mode": {
    "name": "ipython",
    "version": 3
   },
   "file_extension": ".py",
   "mimetype": "text/x-python",
   "name": "python",
   "nbconvert_exporter": "python",
   "pygments_lexer": "ipython3",
   "version": "3.7.6"
  }
 },
 "nbformat": 4,
 "nbformat_minor": 4
}
